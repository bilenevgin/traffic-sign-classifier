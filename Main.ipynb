{
 "cells": [
  {
   "cell_type": "code",
   "execution_count": 1,
   "id": "95ae7779",
   "metadata": {},
   "outputs": [],
   "source": [
    "import torch\n",
    "import os\n",
    "from PIL import Image\n",
    "from torchvision import transforms\n",
    "from torch.utils.data import Dataset , DataLoader\n",
    "import zipfile\n",
    "import numpy as np\n",
    "import cv2\n",
    "import pandas as pd\n",
    "import matplotlib.pyplot as plt\n",
    "import csv"
   ]
  },
  {
   "cell_type": "code",
   "execution_count": 2,
   "id": "a479a88c",
   "metadata": {},
   "outputs": [],
   "source": [
    "#with zipfile.ZipFile(\"archive.zip\" ,\"r\") as zip_ref:\n",
    "    #zip_ref.extractall(\"dataset\")"
   ]
  },
  {
   "cell_type": "code",
   "execution_count": 3,
   "id": "8b63ef72",
   "metadata": {},
   "outputs": [
    {
     "ename": "FileNotFoundError",
     "evalue": "[WinError 3] Sistem belirtilen yolu bulamıyor: 'C:\\\\Users\\\\ASUS\\\\OneDrive\\\\Masaüstü\\\\ml_traffic_sign\\\\dataset\\\\Train'",
     "output_type": "error",
     "traceback": [
      "\u001b[31m---------------------------------------------------------------------------\u001b[39m",
      "\u001b[31mFileNotFoundError\u001b[39m                         Traceback (most recent call last)",
      "\u001b[36mCell\u001b[39m\u001b[36m \u001b[39m\u001b[32mIn[3]\u001b[39m\u001b[32m, line 3\u001b[39m\n\u001b[32m      1\u001b[39m image_train = \u001b[33mr\u001b[39m\u001b[33m\"\u001b[39m\u001b[33mC:\u001b[39m\u001b[33m\\\u001b[39m\u001b[33mUsers\u001b[39m\u001b[33m\\\u001b[39m\u001b[33mASUS\u001b[39m\u001b[33m\\\u001b[39m\u001b[33mOneDrive\u001b[39m\u001b[33m\\\u001b[39m\u001b[33mMasaüstü\u001b[39m\u001b[33m\\\u001b[39m\u001b[33mml_traffic_sign\u001b[39m\u001b[33m\\\u001b[39m\u001b[33mdataset\u001b[39m\u001b[33m\\\u001b[39m\u001b[33mTrain\u001b[39m\u001b[33m\"\u001b[39m\n\u001b[32m----> \u001b[39m\u001b[32m3\u001b[39m \u001b[38;5;28;01mfor\u001b[39;00m number , class_train \u001b[38;5;129;01min\u001b[39;00m \u001b[38;5;28menumerate\u001b[39m(\u001b[43mos\u001b[49m\u001b[43m.\u001b[49m\u001b[43mlistdir\u001b[49m\u001b[43m(\u001b[49m\u001b[43mimage_train\u001b[49m\u001b[43m)\u001b[49m):\n\u001b[32m      4\u001b[39m     \u001b[38;5;28mprint\u001b[39m(number , class_train)\n",
      "\u001b[31mFileNotFoundError\u001b[39m: [WinError 3] Sistem belirtilen yolu bulamıyor: 'C:\\\\Users\\\\ASUS\\\\OneDrive\\\\Masaüstü\\\\ml_traffic_sign\\\\dataset\\\\Train'"
     ]
    }
   ],
   "source": [
    "image_train = r\"C:\\Users\\ASUS\\OneDrive\\Masaüstü\\ml_traffic_sign\\dataset\\Train\"\n",
    "\n",
    "for number , class_train in enumerate(os.listdir(image_train)):\n",
    "    print(number , class_train)\n",
    "    "
   ]
  },
  {
   "cell_type": "code",
   "execution_count": 4,
   "id": "8233c61e",
   "metadata": {},
   "outputs": [
    {
     "ename": "FileNotFoundError",
     "evalue": "[Errno 2] No such file or directory: 'C:\\\\Users\\\\ASUS\\\\OneDrive\\\\Masaüstü\\\\ml_traffic_sign\\\\dataset\\\\signnames.csv'",
     "output_type": "error",
     "traceback": [
      "\u001b[31m---------------------------------------------------------------------------\u001b[39m",
      "\u001b[31mFileNotFoundError\u001b[39m                         Traceback (most recent call last)",
      "\u001b[36mCell\u001b[39m\u001b[36m \u001b[39m\u001b[32mIn[4]\u001b[39m\u001b[32m, line 3\u001b[39m\n\u001b[32m      1\u001b[39m csv_path = \u001b[33mr\u001b[39m\u001b[33m\"\u001b[39m\u001b[33mC:\u001b[39m\u001b[33m\\\u001b[39m\u001b[33mUsers\u001b[39m\u001b[33m\\\u001b[39m\u001b[33mASUS\u001b[39m\u001b[33m\\\u001b[39m\u001b[33mOneDrive\u001b[39m\u001b[33m\\\u001b[39m\u001b[33mMasaüstü\u001b[39m\u001b[33m\\\u001b[39m\u001b[33mml_traffic_sign\u001b[39m\u001b[33m\\\u001b[39m\u001b[33mdataset\u001b[39m\u001b[33m\\\u001b[39m\u001b[33msignnames.csv\u001b[39m\u001b[33m\"\u001b[39m\n\u001b[32m----> \u001b[39m\u001b[32m3\u001b[39m \u001b[38;5;28;01mwith\u001b[39;00m \u001b[38;5;28;43mopen\u001b[39;49m\u001b[43m(\u001b[49m\u001b[43mcsv_path\u001b[49m\u001b[43m,\u001b[49m\u001b[43m \u001b[49m\u001b[43mnewline\u001b[49m\u001b[43m=\u001b[49m\u001b[33;43m'\u001b[39;49m\u001b[33;43m'\u001b[39;49m\u001b[43m,\u001b[49m\u001b[43m \u001b[49m\u001b[43mencoding\u001b[49m\u001b[43m=\u001b[49m\u001b[33;43m\"\u001b[39;49m\u001b[33;43mutf-8\u001b[39;49m\u001b[33;43m\"\u001b[39;49m\u001b[43m)\u001b[49m \u001b[38;5;28;01mas\u001b[39;00m f:\n\u001b[32m      4\u001b[39m     reader = csv.DictReader(f)\n\u001b[32m      5\u001b[39m     \u001b[38;5;28;01mfor\u001b[39;00m row \u001b[38;5;129;01min\u001b[39;00m reader:\n",
      "\u001b[36mFile \u001b[39m\u001b[32mc:\\Users\\ASUS\\anaconda3\\envs\\ml_cv\\Lib\\site-packages\\IPython\\core\\interactiveshell.py:343\u001b[39m, in \u001b[36m_modified_open\u001b[39m\u001b[34m(file, *args, **kwargs)\u001b[39m\n\u001b[32m    336\u001b[39m \u001b[38;5;28;01mif\u001b[39;00m file \u001b[38;5;129;01min\u001b[39;00m {\u001b[32m0\u001b[39m, \u001b[32m1\u001b[39m, \u001b[32m2\u001b[39m}:\n\u001b[32m    337\u001b[39m     \u001b[38;5;28;01mraise\u001b[39;00m \u001b[38;5;167;01mValueError\u001b[39;00m(\n\u001b[32m    338\u001b[39m         \u001b[33mf\u001b[39m\u001b[33m\"\u001b[39m\u001b[33mIPython won\u001b[39m\u001b[33m'\u001b[39m\u001b[33mt let you open fd=\u001b[39m\u001b[38;5;132;01m{\u001b[39;00mfile\u001b[38;5;132;01m}\u001b[39;00m\u001b[33m by default \u001b[39m\u001b[33m\"\u001b[39m\n\u001b[32m    339\u001b[39m         \u001b[33m\"\u001b[39m\u001b[33mas it is likely to crash IPython. If you know what you are doing, \u001b[39m\u001b[33m\"\u001b[39m\n\u001b[32m    340\u001b[39m         \u001b[33m\"\u001b[39m\u001b[33myou can use builtins\u001b[39m\u001b[33m'\u001b[39m\u001b[33m open.\u001b[39m\u001b[33m\"\u001b[39m\n\u001b[32m    341\u001b[39m     )\n\u001b[32m--> \u001b[39m\u001b[32m343\u001b[39m \u001b[38;5;28;01mreturn\u001b[39;00m \u001b[43mio_open\u001b[49m\u001b[43m(\u001b[49m\u001b[43mfile\u001b[49m\u001b[43m,\u001b[49m\u001b[43m \u001b[49m\u001b[43m*\u001b[49m\u001b[43margs\u001b[49m\u001b[43m,\u001b[49m\u001b[43m \u001b[49m\u001b[43m*\u001b[49m\u001b[43m*\u001b[49m\u001b[43mkwargs\u001b[49m\u001b[43m)\u001b[49m\n",
      "\u001b[31mFileNotFoundError\u001b[39m: [Errno 2] No such file or directory: 'C:\\\\Users\\\\ASUS\\\\OneDrive\\\\Masaüstü\\\\ml_traffic_sign\\\\dataset\\\\signnames.csv'"
     ]
    }
   ],
   "source": [
    "csv_path = r\"C:\\Users\\ASUS\\OneDrive\\Masaüstü\\ml_traffic_sign\\dataset\\signnames.csv\"\n",
    "\n",
    "with open(csv_path, newline='', encoding=\"utf-8\") as f:\n",
    "    reader = csv.DictReader(f)\n",
    "    for row in reader:\n",
    "        print(row[\"ClassId\"], \"→\", row[\"SignName\"])\n"
   ]
  },
  {
   "cell_type": "code",
   "execution_count": 13,
   "id": "acb76f3e",
   "metadata": {},
   "outputs": [],
   "source": [
    "class ImageDataset(Dataset):\n",
    "    def __init__(self ,image_train , transform):\n",
    "        self.image_train = image_train\n",
    "        self.image_paths = []\n",
    "        self.labels = []\n",
    "        self.class_name = {}\n",
    "        self.transform = transform\n",
    "        self.id_to_name = None\n",
    "\n",
    "        csv_path = r\"C:\\Users\\ASUS\\OneDrive\\Masaüstü\\traffic-sign-classifier\\dataset\\signnames.csv\"\n",
    "        names_df = pd.read_csv(csv_path)\n",
    "        self.id_to_name = dict(zip(names_df[\"ClassId\"], names_df[\"SignName\"]))\n",
    "            \n",
    "        for class_id in sorted(os.listdir(image_train), key=lambda x: int(x)):\n",
    "            class_id = int(class_id)\n",
    "            self.class_name[class_id] = self.id_to_name[class_id]\n",
    "            class_path = os.path.join(image_train, str(class_id))\n",
    "        \n",
    "            for img_name in os.listdir(class_path):\n",
    "                self.image_paths.append(os.path.join(class_path , img_name))\n",
    "                self.labels.append(class_id)\n",
    "\n",
    "    def __len__(self):\n",
    "        return len(self.image_paths)\n",
    "\n",
    "    def __getitem__(self, idx):\n",
    "        img_path = self.image_paths[idx]\n",
    "        image = Image.open(img_path).convert(\"RGB\")\n",
    "        label = self.labels[idx]\n",
    "\n",
    "        \n",
    "\n",
    "        if self.transform:\n",
    "            image = self.transform(image)\n",
    "\n",
    "        return image , label "
   ]
  },
  {
   "cell_type": "code",
   "execution_count": 14,
   "id": "62867284",
   "metadata": {},
   "outputs": [],
   "source": [
    "class TestImageDataset(Dataset):\n",
    "    def __init__(self, test_csv_path, base_folder, transform=None):\n",
    "        self.transform = transform\n",
    "        self.base_folder = base_folder\n",
    "        self.image_paths = []\n",
    "        self.labels = []\n",
    "        test_df = pd.read_csv(test_csv_path)\n",
    "        for index, row in test_df.iterrows():\n",
    "            image_name = row['Path'].split('/')[-1]\n",
    "            image_path = os.path.join(self.base_folder, image_name)\n",
    "            \n",
    "            self.image_paths.append(image_path)\n",
    "            self.labels.append(row['ClassId'])\n",
    "\n",
    "    def __len__(self):\n",
    "        return len(self.image_paths)\n",
    "\n",
    "    def __getitem__(self, idx):\n",
    "        img_path = self.image_paths[idx]\n",
    "        image = Image.open(img_path).convert(\"RGB\")\n",
    "        label = self.labels[idx]\n",
    "\n",
    "        \n",
    "\n",
    "        if self.transform:\n",
    "            image = self.transform(image)\n",
    "\n",
    "        return image, label"
   ]
  },
  {
   "cell_type": "code",
   "execution_count": 15,
   "id": "065747b7",
   "metadata": {},
   "outputs": [],
   "source": [
    "transform = transforms.Compose([\n",
    "\n",
    "    transforms.Resize((64,64)),\n",
    "    transforms.ToTensor(),\n",
    "    transforms.Normalize(mean = [0.5,0.5,0.5] , std = [0.5,0.5,0.5])\n",
    "])"
   ]
  },
  {
   "cell_type": "code",
   "execution_count": 17,
   "id": "70b9a063",
   "metadata": {},
   "outputs": [],
   "source": [
    "image_train = r\"C:\\Users\\ASUS\\OneDrive\\Masaüstü\\traffic-sign-classifier\\dataset\\Train\"\n",
    "image_test = r\"C:\\Users\\ASUS\\OneDrive\\Masaüstü\\traffic-sign-classifier\\dataset\\Test\"\n",
    "\n",
    "image_train_dataset = ImageDataset (image_train , transform = transform)\n",
    "image_test_dataset = TestImageDataset(r\"C:\\Users\\ASUS\\OneDrive\\Masaüstü\\traffic-sign-classifier\\dataset\\Test.csv\",image_test , transform = transform)\n"
   ]
  },
  {
   "cell_type": "code",
   "execution_count": 18,
   "id": "28bb8a2f",
   "metadata": {},
   "outputs": [],
   "source": [
    "train_image_loader = DataLoader(dataset= image_train_dataset , batch_size = 32 , shuffle = True, num_workers=0)\n",
    "test_image_loader = DataLoader(dataset= image_test_dataset , batch_size = 32 , shuffle = False, num_workers=0)"
   ]
  },
  {
   "cell_type": "code",
   "execution_count": 19,
   "id": "504900ad",
   "metadata": {},
   "outputs": [
    {
     "name": "stdout",
     "output_type": "stream",
     "text": [
      "torch.Size([32, 3, 64, 64]) torch.Size([32])\n",
      "(3, 64, 64)\n",
      "Speed limit (50km/h)\n",
      "(64, 64, 3)\n",
      "2\n"
     ]
    }
   ],
   "source": [
    "for images, labels in train_image_loader:\n",
    "    print(images.shape, labels.shape)\n",
    "\n",
    "    img = images[0].numpy()\n",
    "    print(img.shape)\n",
    "\n",
    "    label = labels[0].item()\n",
    "    print(image_train_dataset.class_name[label])\n",
    "\n",
    "    img = np.transpose(img, (1, 2, 0))\n",
    "    print(img.shape)\n",
    "    print(label)\n",
    "    break\n"
   ]
  },
  {
   "cell_type": "markdown",
   "id": "4a8a6626",
   "metadata": {},
   "source": [
    "Custom CNN Architecture"
   ]
  },
  {
   "cell_type": "code",
   "execution_count": 20,
   "id": "597f8f00",
   "metadata": {},
   "outputs": [],
   "source": [
    "import torch.nn as nn\n",
    "import torch.optim as optim\n"
   ]
  },
  {
   "cell_type": "code",
   "execution_count": 21,
   "id": "65329432",
   "metadata": {},
   "outputs": [],
   "source": [
    "class CustomCnnModel(nn.Module):\n",
    "    def __init__(self , input_dim, num_classes):\n",
    "        super(CustomCnnModel,self).__init__()\n",
    "        self.input_dim = input_dim\n",
    "        self.num_classes = num_classes\n",
    "\n",
    "        self.conv_layers = nn.Sequential(\n",
    "\n",
    "            #FC1\n",
    "            nn.Conv2d(3 ,32 , kernel_size=3 , stride=1 , padding=1),\n",
    "            nn.BatchNorm2d(32),\n",
    "            nn.ReLU(),\n",
    "            nn.MaxPool2d(kernel_size= 2 ,stride=2),\n",
    "\n",
    "            #FC2\n",
    "            nn.Conv2d(32 ,64 , kernel_size=3 , stride=1 , padding=1),\n",
    "            nn.BatchNorm2d(64),\n",
    "            nn.ReLU(),\n",
    "            nn.MaxPool2d(kernel_size= 2 ,stride=2),\n",
    "\n",
    "            #FC3\n",
    "            nn.Conv2d(64 ,128 , kernel_size=3 , stride=1 , padding=1),\n",
    "            nn.BatchNorm2d(128),\n",
    "            nn.ReLU(),\n",
    "            nn.MaxPool2d(kernel_size= 2 ,stride=2),\n",
    "\n",
    "            #FC4\n",
    "            nn.Conv2d(128 ,256 , kernel_size=3 , stride=1 , padding=1),\n",
    "            nn.BatchNorm2d(256),\n",
    "            nn.ReLU(),\n",
    "            nn.MaxPool2d(kernel_size= 2 ,stride=2)\n",
    "\n",
    "        )\n",
    "\n",
    "        self._to_linear = None\n",
    "        self._get_conv_output(self.input_dim)\n",
    "\n",
    "\n",
    "        self.fc_layers = nn.Sequential(\n",
    "            nn.Linear(self._to_linear ,512),\n",
    "            nn.ReLU(),\n",
    "            nn.Linear(512,128),\n",
    "            nn.ReLU(),\n",
    "            nn.Linear(128,self.num_classes),\n",
    "\n",
    "\n",
    "        )\n",
    "    def _get_conv_output(self, input_dim=64):\n",
    "        with torch.no_grad():\n",
    "            dummy_input = torch.zeros(1,3 ,input_dim , input_dim)\n",
    "            output = self.conv_layers(dummy_input)\n",
    "            self._to_linear  = output.view(1 , -1).size(1)\n",
    "           \n",
    "    \n",
    "    \n",
    "    \n",
    "    def forward(self,x):\n",
    "        x = self.conv_layers(x)\n",
    "        x = x.view(x.size(0) , -1)\n",
    "        x = self.fc_layers(x)\n",
    "        return x"
   ]
  },
  {
   "cell_type": "code",
   "execution_count": 22,
   "id": "74102489",
   "metadata": {},
   "outputs": [],
   "source": [
    "#Initialize Model\n",
    "device = torch.device(\"cuda\" if torch.cuda.is_available() else \"cpu\")\n",
    "model =CustomCnnModel(input_dim=64 , num_classes=43).to(device)\n"
   ]
  },
  {
   "cell_type": "code",
   "execution_count": 23,
   "id": "e72b4983",
   "metadata": {},
   "outputs": [
    {
     "name": "stdout",
     "output_type": "stream",
     "text": [
      "CustomCnnModel(\n",
      "  (conv_layers): Sequential(\n",
      "    (0): Conv2d(3, 32, kernel_size=(3, 3), stride=(1, 1), padding=(1, 1))\n",
      "    (1): BatchNorm2d(32, eps=1e-05, momentum=0.1, affine=True, track_running_stats=True)\n",
      "    (2): ReLU()\n",
      "    (3): MaxPool2d(kernel_size=2, stride=2, padding=0, dilation=1, ceil_mode=False)\n",
      "    (4): Conv2d(32, 64, kernel_size=(3, 3), stride=(1, 1), padding=(1, 1))\n",
      "    (5): BatchNorm2d(64, eps=1e-05, momentum=0.1, affine=True, track_running_stats=True)\n",
      "    (6): ReLU()\n",
      "    (7): MaxPool2d(kernel_size=2, stride=2, padding=0, dilation=1, ceil_mode=False)\n",
      "    (8): Conv2d(64, 128, kernel_size=(3, 3), stride=(1, 1), padding=(1, 1))\n",
      "    (9): BatchNorm2d(128, eps=1e-05, momentum=0.1, affine=True, track_running_stats=True)\n",
      "    (10): ReLU()\n",
      "    (11): MaxPool2d(kernel_size=2, stride=2, padding=0, dilation=1, ceil_mode=False)\n",
      "    (12): Conv2d(128, 256, kernel_size=(3, 3), stride=(1, 1), padding=(1, 1))\n",
      "    (13): BatchNorm2d(256, eps=1e-05, momentum=0.1, affine=True, track_running_stats=True)\n",
      "    (14): ReLU()\n",
      "    (15): MaxPool2d(kernel_size=2, stride=2, padding=0, dilation=1, ceil_mode=False)\n",
      "  )\n",
      "  (fc_layers): Sequential(\n",
      "    (0): Linear(in_features=4096, out_features=512, bias=True)\n",
      "    (1): ReLU()\n",
      "    (2): Linear(in_features=512, out_features=128, bias=True)\n",
      "    (3): ReLU()\n",
      "    (4): Linear(in_features=128, out_features=43, bias=True)\n",
      "  )\n",
      ")\n"
     ]
    }
   ],
   "source": [
    "print(model)"
   ]
  },
  {
   "cell_type": "code",
   "execution_count": 39,
   "id": "44163ce1",
   "metadata": {},
   "outputs": [],
   "source": [
    "criterion = nn.CrossEntropyLoss()\n",
    "optimizer = optim.Adam(model.parameters() , lr=0.001)"
   ]
  },
  {
   "cell_type": "code",
   "execution_count": 42,
   "id": "382abb32",
   "metadata": {},
   "outputs": [
    {
     "name": "stdout",
     "output_type": "stream",
     "text": [
      "Epoch 1/20, Loss :0.0027158347856356697\n",
      "Epoch 2/20, Loss :0.0029359486130283476\n",
      "Epoch 3/20, Loss :0.0028563185578263798\n",
      "Epoch 4/20, Loss :0.0030248229305273556\n",
      "Epoch 5/20, Loss :0.002645829956838785\n",
      "Epoch 6/20, Loss :0.002885574423275025\n",
      "Epoch 7/20, Loss :0.0028104307600957923\n",
      "Epoch 8/20, Loss :0.0026011793687331928\n",
      "Epoch 9/20, Loss :0.0026105366173226137\n",
      "Epoch 10/20, Loss :0.0028680448236512125\n",
      "Epoch 11/20, Loss :0.002995033832008648\n",
      "Epoch 12/20, Loss :0.0027484399848427704\n",
      "Epoch 13/20, Loss :0.002788932249557719\n",
      "Epoch 14/20, Loss :0.002972953665703778\n",
      "Epoch 15/20, Loss :0.002865532483012213\n",
      "Epoch 16/20, Loss :0.0028002487699125955\n",
      "Epoch 17/20, Loss :0.002698509961512505\n",
      "Epoch 18/20, Loss :0.002725444454547826\n",
      "Epoch 19/20, Loss :0.003152967666140583\n",
      "Epoch 20/20, Loss :0.002642994020346911\n"
     ]
    }
   ],
   "source": [
    "# Training loop\n",
    "\n",
    "epochs = 20\n",
    "for epoch in range (epochs):\n",
    "    model.train()\n",
    "    running_loss = 0.0\n",
    "    for images , labels in train_image_loader:\n",
    "        images , labels = images.to(device) , labels.to(device)\n",
    "        optimizer.zero_grad()\n",
    "        outputs = model(images)\n",
    "        loss = criterion(outputs , labels)\n",
    "        loss.backward()\n",
    "        optimizer.step()\n",
    "    running_loss+= loss.item()\n",
    "    print(f\"Epoch {epoch+1}/{epochs}, Loss :{running_loss/len(train_image_loader)}\")"
   ]
  },
  {
   "cell_type": "code",
   "execution_count": null,
   "id": "c4b7245a",
   "metadata": {},
   "outputs": [],
   "source": []
  }
 ],
 "metadata": {
  "kernelspec": {
   "display_name": "Python 3",
   "language": "python",
   "name": "python3"
  },
  "language_info": {
   "codemirror_mode": {
    "name": "ipython",
    "version": 3
   },
   "file_extension": ".py",
   "mimetype": "text/x-python",
   "name": "python",
   "nbconvert_exporter": "python",
   "pygments_lexer": "ipython3",
   "version": "3.11.13"
  }
 },
 "nbformat": 4,
 "nbformat_minor": 5
}
