{
 "cells": [
  {
   "cell_type": "code",
   "execution_count": 114,
   "id": "95ae7779",
   "metadata": {},
   "outputs": [],
   "source": [
    "import torch\n",
    "import os\n",
    "from PIL import Image\n",
    "from torchvision import transforms\n",
    "from torch.utils.data import Dataset , DataLoader\n",
    "import zipfile\n",
    "import numpy as np\n",
    "import cv2\n",
    "import pandas as pd\n",
    "import matplotlib.pyplot as plt\n",
    "import csv"
   ]
  },
  {
   "cell_type": "code",
   "execution_count": 115,
   "id": "a479a88c",
   "metadata": {},
   "outputs": [],
   "source": [
    "#with zipfile.ZipFile(\"archive.zip\" ,\"r\") as zip_ref:\n",
    "    #zip_ref.extractall(\"dataset\")"
   ]
  },
  {
   "cell_type": "code",
   "execution_count": 116,
   "id": "8b63ef72",
   "metadata": {},
   "outputs": [
    {
     "name": "stdout",
     "output_type": "stream",
     "text": [
      "0 0\n",
      "1 1\n",
      "2 10\n",
      "3 11\n",
      "4 12\n",
      "5 13\n",
      "6 14\n",
      "7 15\n",
      "8 16\n",
      "9 17\n",
      "10 18\n",
      "11 19\n",
      "12 2\n",
      "13 20\n",
      "14 21\n",
      "15 22\n",
      "16 23\n",
      "17 24\n",
      "18 25\n",
      "19 26\n",
      "20 27\n",
      "21 28\n",
      "22 29\n",
      "23 3\n",
      "24 30\n",
      "25 31\n",
      "26 32\n",
      "27 33\n",
      "28 34\n",
      "29 35\n",
      "30 36\n",
      "31 37\n",
      "32 38\n",
      "33 39\n",
      "34 4\n",
      "35 40\n",
      "36 41\n",
      "37 42\n",
      "38 5\n",
      "39 6\n",
      "40 7\n",
      "41 8\n",
      "42 9\n"
     ]
    }
   ],
   "source": [
    "image_train = r\"C:\\Users\\ASUS\\OneDrive\\Masaüstü\\traffic-sign-classifier\\dataset\\Train\"\n",
    "\n",
    "for number , class_train in enumerate(os.listdir(image_train)):\n",
    "    print(number , class_train)\n",
    "    "
   ]
  },
  {
   "cell_type": "code",
   "execution_count": 117,
   "id": "8233c61e",
   "metadata": {},
   "outputs": [
    {
     "name": "stdout",
     "output_type": "stream",
     "text": [
      "0 → Speed limit (20km/h)\n",
      "1 → Speed limit (30km/h)\n",
      "2 → Speed limit (50km/h)\n",
      "3 → Speed limit (60km/h)\n",
      "4 → Speed limit (70km/h)\n",
      "5 → Speed limit (80km/h)\n",
      "6 → End of speed limit (80km/h)\n",
      "7 → Speed limit (100km/h)\n",
      "8 → Speed limit (120km/h)\n",
      "9 → No passing\n",
      "10 → No passing for vehicles over 3.5 metric tons\n",
      "11 → Right-of-way at the next intersection\n",
      "12 → Priority road\n",
      "13 → Yield\n",
      "14 → Stop\n",
      "15 → No vehicles\n",
      "16 → Vehicles over 3.5 metric tons prohibited\n",
      "17 → No entry\n",
      "18 → General caution\n",
      "19 → Dangerous curve to the left\n",
      "20 → Dangerous curve to the right\n",
      "21 → Double curve\n",
      "22 → Bumpy road\n",
      "23 → Slippery road\n",
      "24 → Road narrows on the right\n",
      "25 → Road work\n",
      "26 → Traffic signals\n",
      "27 → Pedestrians\n",
      "28 → Children crossing\n",
      "29 → Bicycles crossing\n",
      "30 → Beware of ice/snow\n",
      "31 → Wild animals crossing\n",
      "32 → End of all speed and passing limits\n",
      "33 → Turn right ahead\n",
      "34 → Turn left ahead\n",
      "35 → Ahead only\n",
      "36 → Go straight or right\n",
      "37 → Go straight or left\n",
      "38 → Keep right\n",
      "39 → Keep left\n",
      "40 → Roundabout mandatory\n",
      "41 → End of no passing\n",
      "42 → End of no passing by vehicles over 3.5 metric tons\n"
     ]
    }
   ],
   "source": [
    "csv_path = r\"C:\\Users\\ASUS\\OneDrive\\Masaüstü\\traffic-sign-classifier\\dataset\\signnames.csv\"\n",
    "\n",
    "with open(csv_path, newline='', encoding=\"utf-8\") as f:\n",
    "    reader = csv.DictReader(f)\n",
    "    for row in reader:\n",
    "        print(row[\"ClassId\"], \"→\", row[\"SignName\"])\n"
   ]
  },
  {
   "cell_type": "code",
   "execution_count": 118,
   "id": "acb76f3e",
   "metadata": {},
   "outputs": [],
   "source": [
    "class ImageDataset(Dataset):\n",
    "    def __init__(self ,image_train , transform):\n",
    "        self.image_train = image_train\n",
    "        self.image_paths = []\n",
    "        self.labels = []\n",
    "        self.class_name = {}\n",
    "        self.transform = transform\n",
    "        self.id_to_name = None\n",
    "\n",
    "        csv_path = r\"C:\\Users\\ASUS\\OneDrive\\Masaüstü\\traffic-sign-classifier\\dataset\\signnames.csv\"\n",
    "        names_df = pd.read_csv(csv_path)\n",
    "        self.id_to_name = dict(zip(names_df[\"ClassId\"], names_df[\"SignName\"]))\n",
    "            \n",
    "        for class_id in sorted(os.listdir(image_train), key=lambda x: int(x)):\n",
    "            class_id = int(class_id)\n",
    "            self.class_name[class_id] = self.id_to_name[class_id]\n",
    "            class_path = os.path.join(image_train, str(class_id))\n",
    "        \n",
    "            for img_name in os.listdir(class_path):\n",
    "                self.image_paths.append(os.path.join(class_path , img_name))\n",
    "                self.labels.append(class_id)\n",
    "\n",
    "    def __len__(self):\n",
    "        return len(self.image_paths)\n",
    "\n",
    "    def __getitem__(self, idx):\n",
    "        img_path = self.image_paths[idx]\n",
    "        image = Image.open(img_path).convert(\"RGB\")\n",
    "        label = self.labels[idx]\n",
    "\n",
    "        \n",
    "\n",
    "        if self.transform:\n",
    "            image = self.transform(image)\n",
    "\n",
    "        return image , label "
   ]
  },
  {
   "cell_type": "code",
   "execution_count": 119,
   "id": "62867284",
   "metadata": {},
   "outputs": [],
   "source": [
    "class TestImageDataset(Dataset):\n",
    "    def __init__(self, test_csv_path, base_folder, transform=None):\n",
    "        self.transform = transform\n",
    "        self.base_folder = base_folder\n",
    "        self.image_paths = []\n",
    "        self.labels = []\n",
    "        test_df = pd.read_csv(test_csv_path)\n",
    "        for index, row in test_df.iterrows():\n",
    "            image_name = row['Path'].split('/')[-1]\n",
    "            image_path = os.path.join(self.base_folder, image_name)\n",
    "            \n",
    "            self.image_paths.append(image_path)\n",
    "            self.labels.append(row['ClassId'])\n",
    "\n",
    "    def __len__(self):\n",
    "        return len(self.image_paths)\n",
    "\n",
    "    def __getitem__(self, idx):\n",
    "        img_path = self.image_paths[idx]\n",
    "        image = Image.open(img_path).convert(\"RGB\")\n",
    "        label = self.labels[idx]\n",
    "\n",
    "        \n",
    "\n",
    "        if self.transform:\n",
    "            image = self.transform(image)\n",
    "\n",
    "        return image, label"
   ]
  },
  {
   "cell_type": "code",
   "execution_count": 120,
   "id": "065747b7",
   "metadata": {},
   "outputs": [],
   "source": [
    "transform = transforms.Compose([\n",
    "\n",
    "    transforms.Resize((64,64)),\n",
    "    transforms.ToTensor(),\n",
    "    transforms.Normalize(mean = [-0.3194, -0.3756, -0.3571] , std = [0.3261, 0.3260, 0.3454])\n",
    "])"
   ]
  },
  {
   "cell_type": "code",
   "execution_count": 121,
   "id": "70b9a063",
   "metadata": {},
   "outputs": [],
   "source": [
    "image_train = r\"C:\\Users\\ASUS\\OneDrive\\Masaüstü\\traffic-sign-classifier\\dataset\\Train\"\n",
    "image_test = r\"C:\\Users\\ASUS\\OneDrive\\Masaüstü\\traffic-sign-classifier\\dataset\\Test\"\n",
    "\n",
    "image_train_dataset = ImageDataset (image_train , transform = transform)\n",
    "image_test_dataset = TestImageDataset(r\"C:\\Users\\ASUS\\OneDrive\\Masaüstü\\traffic-sign-classifier\\dataset\\Test.csv\",image_test , transform = transform)\n"
   ]
  },
  {
   "cell_type": "code",
   "execution_count": 122,
   "id": "28bb8a2f",
   "metadata": {},
   "outputs": [],
   "source": [
    "train_image_loader = DataLoader(dataset= image_train_dataset , batch_size = 32 , shuffle = True, num_workers=0)\n",
    "test_image_loader = DataLoader(dataset= image_test_dataset , batch_size = 32 , shuffle = False, num_workers=0)"
   ]
  },
  {
   "cell_type": "code",
   "execution_count": 123,
   "id": "504900ad",
   "metadata": {},
   "outputs": [
    {
     "name": "stdout",
     "output_type": "stream",
     "text": [
      "torch.Size([32, 3, 64, 64]) torch.Size([32])\n",
      "(3, 64, 64)\n",
      "Priority road\n",
      "(64, 64, 3)\n",
      "12\n"
     ]
    }
   ],
   "source": [
    "for images, labels in train_image_loader:\n",
    "    print(images.shape, labels.shape)\n",
    "\n",
    "    img = images[0].numpy()\n",
    "    print(img.shape)\n",
    "\n",
    "    label = labels[0].item()\n",
    "    print(image_train_dataset.class_name[label])\n",
    "\n",
    "    img = np.transpose(img, (1, 2, 0))\n",
    "    print(img.shape)\n",
    "    print(label)\n",
    "    break\n"
   ]
  },
  {
   "cell_type": "markdown",
   "id": "4a8a6626",
   "metadata": {},
   "source": [
    "Custom CNN Architecture"
   ]
  },
  {
   "cell_type": "code",
   "execution_count": 124,
   "id": "597f8f00",
   "metadata": {},
   "outputs": [],
   "source": [
    "import torch.nn as nn\n",
    "import torch.optim as optim\n"
   ]
  },
  {
   "cell_type": "code",
   "execution_count": 125,
   "id": "65329432",
   "metadata": {},
   "outputs": [],
   "source": [
    "class CustomCnnModel(nn.Module):\n",
    "    def __init__(self , input_dim, num_classes):\n",
    "        super(CustomCnnModel,self).__init__()\n",
    "        self.input_dim = input_dim\n",
    "        self.num_classes = num_classes\n",
    "\n",
    "        self.conv_layers = nn.Sequential(\n",
    "\n",
    "            #FC1\n",
    "            nn.Conv2d(3 ,32 , kernel_size=3 , stride=1 , padding=1),\n",
    "            nn.BatchNorm2d(32),\n",
    "            nn.ReLU(),\n",
    "            nn.MaxPool2d(kernel_size= 2 ,stride=2),\n",
    "\n",
    "            #FC2\n",
    "            nn.Conv2d(32 ,64 , kernel_size=3 , stride=1 , padding=1),\n",
    "            nn.BatchNorm2d(64),\n",
    "            nn.ReLU(),\n",
    "            nn.MaxPool2d(kernel_size= 2 ,stride=2),\n",
    "\n",
    "            #FC3\n",
    "            nn.Conv2d(64 ,128 , kernel_size=3 , stride=1 , padding=1),\n",
    "            nn.BatchNorm2d(128),\n",
    "            nn.ReLU(),\n",
    "            nn.MaxPool2d(kernel_size= 2 ,stride=2),\n",
    "\n",
    "            #FC4\n",
    "            nn.Conv2d(128 ,256 , kernel_size=3 , stride=1 , padding=1),\n",
    "            nn.BatchNorm2d(256),\n",
    "            nn.ReLU(),\n",
    "            nn.MaxPool2d(kernel_size= 2 ,stride=2)\n",
    "\n",
    "        )\n",
    "\n",
    "        self._to_linear = None\n",
    "        self._get_conv_output(self.input_dim)\n",
    "\n",
    "\n",
    "        self.fc_layers = nn.Sequential(\n",
    "            nn.Linear(self._to_linear ,512),\n",
    "            nn.ReLU(),\n",
    "            nn.Linear(512,128),\n",
    "            nn.ReLU(),\n",
    "            nn.Linear(128,self.num_classes),\n",
    "\n",
    "\n",
    "        )\n",
    "    def _get_conv_output(self, input_dim=64):\n",
    "        with torch.no_grad():\n",
    "            dummy_input = torch.zeros(1,3 ,input_dim , input_dim)\n",
    "            output = self.conv_layers(dummy_input)\n",
    "            self._to_linear  = output.view(1 , -1).size(1)\n",
    "           \n",
    "    \n",
    "    \n",
    "    \n",
    "    def forward(self,x):\n",
    "        x = self.conv_layers(x)\n",
    "        x = x.view(x.size(0) , -1)\n",
    "        x = self.fc_layers(x)\n",
    "        return x"
   ]
  },
  {
   "cell_type": "code",
   "execution_count": 126,
   "id": "74102489",
   "metadata": {},
   "outputs": [],
   "source": [
    "#Initialize Model\n",
    "device = torch.device(\"cuda\" if torch.cuda.is_available() else \"cpu\")\n",
    "model =CustomCnnModel(input_dim=64 , num_classes=43).to(device)\n"
   ]
  },
  {
   "cell_type": "code",
   "execution_count": 127,
   "id": "e72b4983",
   "metadata": {},
   "outputs": [
    {
     "name": "stdout",
     "output_type": "stream",
     "text": [
      "CustomCnnModel(\n",
      "  (conv_layers): Sequential(\n",
      "    (0): Conv2d(3, 32, kernel_size=(3, 3), stride=(1, 1), padding=(1, 1))\n",
      "    (1): BatchNorm2d(32, eps=1e-05, momentum=0.1, affine=True, track_running_stats=True)\n",
      "    (2): ReLU()\n",
      "    (3): MaxPool2d(kernel_size=2, stride=2, padding=0, dilation=1, ceil_mode=False)\n",
      "    (4): Conv2d(32, 64, kernel_size=(3, 3), stride=(1, 1), padding=(1, 1))\n",
      "    (5): BatchNorm2d(64, eps=1e-05, momentum=0.1, affine=True, track_running_stats=True)\n",
      "    (6): ReLU()\n",
      "    (7): MaxPool2d(kernel_size=2, stride=2, padding=0, dilation=1, ceil_mode=False)\n",
      "    (8): Conv2d(64, 128, kernel_size=(3, 3), stride=(1, 1), padding=(1, 1))\n",
      "    (9): BatchNorm2d(128, eps=1e-05, momentum=0.1, affine=True, track_running_stats=True)\n",
      "    (10): ReLU()\n",
      "    (11): MaxPool2d(kernel_size=2, stride=2, padding=0, dilation=1, ceil_mode=False)\n",
      "    (12): Conv2d(128, 256, kernel_size=(3, 3), stride=(1, 1), padding=(1, 1))\n",
      "    (13): BatchNorm2d(256, eps=1e-05, momentum=0.1, affine=True, track_running_stats=True)\n",
      "    (14): ReLU()\n",
      "    (15): MaxPool2d(kernel_size=2, stride=2, padding=0, dilation=1, ceil_mode=False)\n",
      "  )\n",
      "  (fc_layers): Sequential(\n",
      "    (0): Linear(in_features=4096, out_features=512, bias=True)\n",
      "    (1): ReLU()\n",
      "    (2): Linear(in_features=512, out_features=128, bias=True)\n",
      "    (3): ReLU()\n",
      "    (4): Linear(in_features=128, out_features=43, bias=True)\n",
      "  )\n",
      ")\n"
     ]
    }
   ],
   "source": [
    "print(model)"
   ]
  },
  {
   "cell_type": "code",
   "execution_count": 128,
   "id": "44163ce1",
   "metadata": {},
   "outputs": [],
   "source": [
    "criterion = nn.CrossEntropyLoss()\n",
    "optimizer = optim.Adam(model.parameters() , lr=0.001)"
   ]
  },
  {
   "cell_type": "code",
   "execution_count": 129,
   "id": "382abb32",
   "metadata": {},
   "outputs": [
    {
     "name": "stdout",
     "output_type": "stream",
     "text": [
      "Epoch 1/20, Loss :7.657988717077607e-05\n",
      "Epoch 2/20, Loss :1.61740330289472e-05\n",
      "Epoch 3/20, Loss :2.226983088784248e-07\n",
      "Epoch 4/20, Loss :8.632018665561292e-09\n",
      "Epoch 5/20, Loss :5.318385170587319e-06\n",
      "Epoch 6/20, Loss :4.969666735772393e-09\n",
      "Epoch 7/20, Loss :5.293855417472235e-10\n",
      "Epoch 8/20, Loss :2.4883915194679435e-05\n",
      "Epoch 9/20, Loss :6.57929728388958e-09\n",
      "Epoch 10/20, Loss :1.6826067412679264e-07\n",
      "Epoch 11/20, Loss :9.07516031509222e-10\n",
      "Epoch 12/20, Loss :6.633395898185494e-09\n",
      "Epoch 13/20, Loss :1.9573459179910905e-05\n",
      "Epoch 14/20, Loss :3.861472486149137e-07\n",
      "Epoch 15/20, Loss :8.426306097537315e-08\n",
      "Epoch 16/20, Loss :9.145138662370746e-08\n",
      "Epoch 17/20, Loss :1.9458836236236342e-06\n",
      "Epoch 18/20, Loss :4.029759599420441e-09\n",
      "Epoch 19/20, Loss :1.5880646928347235e-08\n",
      "Epoch 20/20, Loss :2.7348976779795976e-06\n"
     ]
    }
   ],
   "source": [
    "# Training loop\n",
    "\n",
    "epochs = 20\n",
    "for epoch in range (epochs):\n",
    "    model.train()\n",
    "    running_loss = 0.0\n",
    "    for images , labels in train_image_loader:\n",
    "        images , labels = images.to(device) , labels.to(device)\n",
    "        optimizer.zero_grad()\n",
    "        outputs = model(images)\n",
    "        loss = criterion(outputs , labels)\n",
    "        loss.backward()\n",
    "        optimizer.step()\n",
    "    running_loss+= loss.item()\n",
    "    print(f\"Epoch {epoch+1}/{epochs}, Loss :{running_loss/len(train_image_loader)}\")"
   ]
  },
  {
   "cell_type": "code",
   "execution_count": 130,
   "id": "c4b7245a",
   "metadata": {},
   "outputs": [
    {
     "name": "stdout",
     "output_type": "stream",
     "text": [
      "Test Accuracy is :  96.22%\n"
     ]
    }
   ],
   "source": [
    "#Evaluate\n",
    "\n",
    "model.eval()\n",
    "correct = 0 \n",
    "total = 0\n",
    "\n",
    "with torch.no_grad():\n",
    "    for images , labels in test_image_loader:\n",
    "        images , labels = images.to(device) , labels.to(device)\n",
    "        optimizer.zero_grad()\n",
    "        outputs = model(images)\n",
    "        _ , predicted = torch.max(outputs , 1)\n",
    "        total+= labels.size(0)\n",
    "        correct += (predicted == labels).sum().item()\n",
    "\n",
    "print(f\"Test Accuracy is : {100*correct / total : .2f}%\")"
   ]
  },
  {
   "cell_type": "code",
   "execution_count": 149,
   "id": "1b7c5044",
   "metadata": {},
   "outputs": [],
   "source": [
    "import cv2\n",
    "class ImageClassifier:\n",
    "    def __init__(self, model_path, class_names):\n",
    "        self.device = torch.device('cuda' if torch.cuda.is_available() else 'cpu')\n",
    "        self.class_names = class_names\n",
    "        self.model = CustomCnnModel(input_dim=64, num_classes=len(class_names)).to(self.device)\n",
    "        self.model.load_state_dict(torch.load(model_path, map_location=self.device))\n",
    "        self.model.eval()\n",
    "        self.transform = transforms.Compose([\n",
    "            transforms.Resize((64, 64)),\n",
    "            transforms.ToTensor(),\n",
    "            transforms.Normalize(mean = [-0.3194, -0.3756, -0.3571] , std = [0.3261, 0.3260, 0.3454]),\n",
    "        ])\n",
    "\n",
    "    def predict(self, image_path, save_annotated=\"output_image.jpg\"):\n",
    "        pil_img = Image.open(image_path).convert(\"RGB\")\n",
    "        x = self.transform(pil_img).unsqueeze(0).to(self.device)\n",
    "\n",
    "        with torch.no_grad():\n",
    "            logits = self.model(x)\n",
    "            pred_idx = logits.argmax(1).item()\n",
    "\n",
    "        label = self.class_names[pred_idx]\n",
    "\n",
    "        img = cv2.cvtColor(np.array(pil_img), cv2.COLOR_RGB2BGR)\n",
    "        cv2.putText(img, label, (0, 50), cv2.FONT_HERSHEY_SIMPLEX, 0.5, (255, 0, 0), 1)\n",
    "        cv2.imwrite(save_annotated, img)\n",
    "        return label"
   ]
  },
  {
   "cell_type": "code",
   "execution_count": 150,
   "id": "a782caba",
   "metadata": {},
   "outputs": [],
   "source": [
    "torch.save(model.state_dict() , \"traffic_sign_model.pth\")"
   ]
  },
  {
   "cell_type": "code",
   "execution_count": 159,
   "id": "275294e6",
   "metadata": {},
   "outputs": [
    {
     "name": "stdout",
     "output_type": "stream",
     "text": [
      "Predicted class is : Keep right\n"
     ]
    }
   ],
   "source": [
    "classifier = ImageClassifier(r\"C:\\Users\\ASUS\\OneDrive\\Masaüstü\\traffic-sign-classifier\\traffic_sign_model.pth\" , image_train_dataset.class_name)\n",
    "label = classifier.predict(r\"C:\\Users\\ASUS\\OneDrive\\Masaüstü\\traffic-sign-classifier\\dataset\\Test\\06875.png\")\n",
    "print(f\"Predicted class is : {label}\")"
   ]
  },
  {
   "cell_type": "code",
   "execution_count": null,
   "id": "c67a7948",
   "metadata": {},
   "outputs": [],
   "source": []
  }
 ],
 "metadata": {
  "kernelspec": {
   "display_name": "ml_cv",
   "language": "python",
   "name": "python3"
  },
  "language_info": {
   "codemirror_mode": {
    "name": "ipython",
    "version": 3
   },
   "file_extension": ".py",
   "mimetype": "text/x-python",
   "name": "python",
   "nbconvert_exporter": "python",
   "pygments_lexer": "ipython3",
   "version": "3.11.13"
  }
 },
 "nbformat": 4,
 "nbformat_minor": 5
}
